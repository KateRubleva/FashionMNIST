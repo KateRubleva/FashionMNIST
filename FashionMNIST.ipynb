{
  "nbformat": 4,
  "nbformat_minor": 0,
  "metadata": {
    "colab": {
      "provenance": []
    },
    "kernelspec": {
      "name": "python3",
      "display_name": "Python 3"
    },
    "language_info": {
      "name": "python"
    },
    "accelerator": "GPU",
    "gpuClass": "standard"
  },
  "cells": [
    {
      "cell_type": "markdown",
      "source": [
        "# FashionMNIST"
      ],
      "metadata": {
        "id": "t5yAXr0WZK1L"
      }
    },
    {
      "cell_type": "markdown",
      "source": [
        "<img src=\"https://emiliendupont.github.io/imgs/mnist-chicken/mnist-and-fashion-examples.png\">"
      ],
      "metadata": {
        "id": "9zBDaFd-af3L"
      }
    },
    {
      "cell_type": "markdown",
      "source": [
        "Мы будем работать с картинками одежды (чёрно-белыми, 28 на 28). По входной картинке нужно предсказать тип одежды на 10 классов."
      ],
      "metadata": {
        "id": "EQUWMfZRahIO"
      }
    },
    {
      "cell_type": "code",
      "execution_count": null,
      "metadata": {
        "id": "czUjp5h-SDfg"
      },
      "outputs": [],
      "source": [
        "# установим последнюю версию wandb\n",
        "!pip install -q --upgrade wandb"
      ]
    },
    {
      "cell_type": "code",
      "source": [
        "import wandb\n",
        "wandb.login()"
      ],
      "metadata": {
        "colab": {
          "base_uri": "https://localhost:8080/"
        },
        "id": "VIlHfwB6JIes",
        "outputId": "d87ce47e-6163-41c8-bbb7-b10e7f9837e4"
      },
      "execution_count": null,
      "outputs": [
        {
          "output_type": "execute_result",
          "data": {
            "text/plain": [
              "True"
            ]
          },
          "metadata": {},
          "execution_count": 289
        }
      ]
    },
    {
      "cell_type": "code",
      "source": [
        "import os\n",
        "import wandb # для логирования\n",
        "\n",
        "import numpy as np\n",
        "import random\n",
        "from tqdm import *\n",
        "\n",
        "import torch\n",
        "import torch.nn as nn\n",
        "import torch.nn.functional as F\n",
        "import torch.optim as optim # для оптимизаторов\n",
        "from torchvision import datasets # для данных\n",
        "import torchvision.transforms as transforms # для преобразований тензоров\n",
        "\n",
        "import matplotlib.pyplot as plt\n",
        "import torchvision\n",
        "from torch.autograd import Variable"
      ],
      "metadata": {
        "id": "fWtwdJBETKgd"
      },
      "execution_count": null,
      "outputs": []
    },
    {
      "cell_type": "code",
      "source": [
        "# Зафиксируем seed для воспроизводимости\n",
        "\n",
        "def seed_everything(seed):\n",
        "    random.seed(seed) # фиксируем генератор случайных чисел\n",
        "    os.environ['PYTHONHASHSEED'] = str(seed) # фиксируем заполнения хешей\n",
        "    np.random.seed(seed) # фиксируем генератор случайных чисел numpy\n",
        "    torch.manual_seed(seed) # фиксируем генератор случайных чисел pytorch\n",
        "    torch.cuda.manual_seed(seed) # фиксируем генератор случайных чисел для GPU"
      ],
      "metadata": {
        "id": "act8OGimTclJ"
      },
      "execution_count": null,
      "outputs": []
    },
    {
      "cell_type": "markdown",
      "source": [
        "Выпишем все классы для последующего использования. "
      ],
      "metadata": {
        "id": "4Homy1Hda0y_"
      }
    },
    {
      "cell_type": "code",
      "source": [],
      "metadata": {
        "id": "JWbIhBQYq44-"
      },
      "execution_count": null,
      "outputs": []
    },
    {
      "cell_type": "code",
      "source": [
        "class CFG:\n",
        "\n",
        "# Задаем параметры нашего эксперимента\n",
        "\n",
        "  api = \"b395e726c4c8c131c415a8b72789f43fd33a4c56\"# вписать свой API Wandb  (взято с сайта https://wandb.ai/authorize)\n",
        "  project = \"mnist_fashion_first\"# вписать название эксперимента, который предварительно надо создать в Wandb\n",
        "  entity = \"kledjer\"# ввести свой логин\n",
        "\n",
        "  num_epochs = 10 # количество эпох\n",
        "  train_batch_size = 64 # размер батча обучающей выборки\n",
        "  test_batch_size = 512 # размер батча тестовой выборки\n",
        "  num_workers = 2 # количество активных процессов на загрузку данных\n",
        "  lr = 0.001 # learning_rate\n",
        "  seed = 2022 # для функции воспроизводимости\n",
        "  wandb = False # флаг использования Wandb (выключила, потому что с ним вылезала ошибка)\n"
      ],
      "metadata": {
        "id": "X_ltN5rHTgMe"
      },
      "execution_count": null,
      "outputs": []
    },
    {
      "cell_type": "code",
      "source": [
        "# функция перевода класса конфигурации в словарь\n",
        "\n",
        "def class2dict(f):\n",
        "  return dict((name, getattr(f, name)) for name in dir(f) if not name.startswith('__'))"
      ],
      "metadata": {
        "id": "xnrD-0AQUpHi"
      },
      "execution_count": null,
      "outputs": []
    },
    {
      "cell_type": "markdown",
      "source": [
        "Обратим внимание, что датасет поменялся, а значит поменлись среднее и стандартное отклонение, их необходимо посмотреть на официальной страничке датасета [ссылка](https://boscoj2008.github.io/customCNN/)."
      ],
      "metadata": {
        "id": "JNdiWxT1a836"
      }
    },
    {
      "cell_type": "markdown",
      "source": [
        "Для начала нам необходимо нормализовать данные, чтобы в дальнейшем мы могли с ними работать и не было проблем при сравнении метрик и построении графиков (в том числе, корреляция) "
      ],
      "metadata": {
        "id": "dI1QP5x-zoGd"
      }
    },
    {
      "cell_type": "markdown",
      "source": [
        "В соответствии с ссылкой, предоставленной выше мы имеем, что mean = 0.2859;  std = 0.3530, наше преобразование будет иметь следующий вид:"
      ],
      "metadata": {
        "id": "8UDifF1IzT1j"
      }
    },
    {
      "cell_type": "code",
      "source": [
        "# будем загружать картинки, сразу преобразуя их в тензор и нормализуя\n",
        "\n",
        "transform = transforms.Compose(\n",
        "    [transforms.ToTensor(),\n",
        "     transforms.Normalize((0.2859,), (0.3530,))])"
      ],
      "metadata": {
        "id": "i4aZMk4qYCzk"
      },
      "execution_count": null,
      "outputs": []
    },
    {
      "cell_type": "markdown",
      "source": [
        "Загружаем данные."
      ],
      "metadata": {
        "id": "-TtjNYSee01i"
      }
    },
    {
      "cell_type": "code",
      "source": [
        "#используя прописанную выше формулу преобразуем наши данные, нормализця их по mean и std \n",
        "train_data = datasets.FashionMNIST(root='data', train=True,\n",
        "                                   download=True, transform=transform)\n",
        "test_data = datasets.FashionMNIST(root='data', train=False,\n",
        "                                  download=True, transform=transform)\n",
        "\n",
        "train_loader = torch.utils.data.DataLoader(train_data, batch_size=CFG.train_batch_size,\n",
        "                                          shuffle=True, num_workers=CFG.num_workers, pin_memory=True)\n",
        "\n",
        "test_loader = torch.utils.data.DataLoader(test_data, batch_size=CFG.test_batch_size,\n",
        "                                         shuffle=False, num_workers=CFG.num_workers, pin_memory=True)"
      ],
      "metadata": {
        "id": "M8O3KPn-VCK4"
      },
      "execution_count": null,
      "outputs": []
    },
    {
      "cell_type": "code",
      "source": [
        "# отрисуем несколько картинок\n",
        "\n",
        "dataiter = iter(train_loader)\n",
        "images, labels = next(dataiter)\n",
        "images = images.numpy()\n",
        "\n",
        "fig = plt.figure(figsize=(25, 4))\n",
        "for idx in np.arange(16):\n",
        "  plt.subplot(2, 8, idx+1)  #прописываем значения для выводимых картинок 2 - кол-во строк, 8 - кол-во значений в одной строке) \n",
        "  plt.tight_layout()  # добавлем отступы между графиками\n",
        "  plt.imshow(images[idx][0], cmap='gray')   #из цветов оставляем только серый, для обратной шкалы серого можно взять cmap='gray_r'\n",
        "  plt.xticks([])\n",
        "  plt.yticks([])"
      ],
      "metadata": {
        "colab": {
          "base_uri": "https://localhost:8080/",
          "height": 154
        },
        "id": "piyI6eoTWpUu",
        "outputId": "66378299-c545-4d3f-cb6e-e4143e743e0b"
      },
      "execution_count": null,
      "outputs": [
        {
          "output_type": "display_data",
          "data": {
            "text/plain": [
              "<Figure size 1800x288 with 16 Axes>"
            ],
            "image/png": "[encoded data removed]"
          },
          "metadata": {}
        }
      ]
    },
    {
      "cell_type": "code",
      "source": [
        "print(f\"image tensor: {images.shape}\")   #возвращает высоту, ширину и каналы\n",
        "print(f\"class labels: {labels}\")"
      ],
      "metadata": {
        "colab": {
          "base_uri": "https://localhost:8080/"
        },
        "id": "6bMMRGOw2r70",
        "outputId": "cac19d92-12b0-450c-e132-df93e93e1d55"
      },
      "execution_count": null,
      "outputs": [
        {
          "output_type": "stream",
          "name": "stdout",
          "text": [
            "image tensor: (64, 1, 28, 28)\n",
            "class labels: tensor([6, 0, 2, 9, 3, 3, 2, 1, 7, 4, 4, 1, 6, 7, 0, 6, 3, 0, 8, 8, 1, 0, 9, 7,\n",
            "        8, 5, 9, 3, 7, 2, 5, 4, 0, 9, 6, 8, 4, 1, 0, 5, 2, 3, 1, 9, 3, 8, 9, 4,\n",
            "        7, 7, 5, 7, 0, 7, 1, 6, 3, 3, 8, 0, 6, 3, 0, 3])\n"
          ]
        }
      ]
    },
    {
      "cell_type": "markdown",
      "source": [
        "Создаем полносвязаннную нейронную сеть. "
      ],
      "metadata": {
        "id": "S2TOF9mHfDSD"
      }
    },
    {
      "cell_type": "code",
      "source": [
        "class My_Net(nn.Module): # наследуемся от класса nn.Module\n",
        "    def __init__(self):\n",
        "        super().__init__() # super class constructor\n",
        "        self.conv1 = nn.Conv2d(in_channels=1, out_channels=6, kernel_size=(5,5))   # слой 2д свертки\n",
        "        self.batchN1 = nn.BatchNorm2d(num_features=6)   #используется для ускорения обучения\n",
        "        self.conv2 = nn.Conv2d(in_channels=6, out_channels=12, kernel_size=(5,5))  #слой свертки для второго слоя\n",
        "        self.fc1 = nn.Linear(in_features=12*4*4, out_features=120)\n",
        "        self.batchN2 = nn.BatchNorm1d(num_features=120)\n",
        "        self.fc2 = nn.Linear(in_features=120, out_features=60) #призводим линейное преобразования\n",
        "        self.out = nn.Linear(in_features=60, out_features=10)\n",
        "        \n",
        "        \n",
        "        \n",
        "    def forward(self, out): # реализуем через метод forward \n",
        "        \n",
        "        # скрытый слой 1\n",
        "        out = self.conv1(out)\n",
        "        out = F.max_pool2d(input=out, kernel_size=2, stride=2)\n",
        "        out = F.relu(out)\n",
        "        out = self.batchN1(out)\n",
        "        \n",
        "        # скрытый слой 2\n",
        "        out = self.conv2(out)\n",
        "        out = F.max_pool2d(input=out, kernel_size=2, stride=2)\n",
        "        out = F.relu(out)\n",
        "        \n",
        "        # перобразуем массив в одномерный вектор\n",
        "        out = out.reshape(-1, 12*4*4) #меняем форму массива данных \n",
        "        out = self.fc1(out) #запускаем вычисления внутри слоя 1\n",
        "        out = F.relu(out) #функция активации\n",
        "        out = self.batchN2(out) \n",
        "        out = self.fc2(out)\n",
        "        out = F.relu(out)\n",
        "        \n",
        "        # выходная характеристика\n",
        "        out = self.out(out)\n",
        "        \n",
        "        return out        "
      ],
      "metadata": {
        "id": "CPxbrZdqWq7G"
      },
      "execution_count": null,
      "outputs": []
    },
    {
      "cell_type": "code",
      "source": [
        "#посмотрим на структуру модели\n",
        "model = My_Net()\n",
        "device = torch.device('cuda:0' if torch.cuda.is_available() else 'cpu')\n",
        "\n",
        "model = model.to(device)\n",
        "print(model) # посмотрим на нашу модель"
      ],
      "metadata": {
        "colab": {
          "base_uri": "https://localhost:8080/"
        },
        "id": "z6Xd4VKcW2DA",
        "outputId": "a818fb9e-10b8-4725-d51f-5f1c50237c12"
      },
      "execution_count": null,
      "outputs": [
        {
          "output_type": "stream",
          "name": "stdout",
          "text": [
            "My_Net(\n",
            "  (conv1): Conv2d(1, 6, kernel_size=(5, 5), stride=(1, 1))\n",
            "  (batchN1): BatchNorm2d(6, eps=1e-05, momentum=0.1, affine=True, track_running_stats=True)\n",
            "  (conv2): Conv2d(6, 12, kernel_size=(5, 5), stride=(1, 1))\n",
            "  (fc1): Linear(in_features=192, out_features=120, bias=True)\n",
            "  (batchN2): BatchNorm1d(120, eps=1e-05, momentum=0.1, affine=True, track_running_stats=True)\n",
            "  (fc2): Linear(in_features=120, out_features=60, bias=True)\n",
            "  (out): Linear(in_features=60, out_features=10, bias=True)\n",
            ")\n"
          ]
        }
      ]
    },
    {
      "cell_type": "code",
      "source": [
        "# функция потерь (cross-entropy) для 10 классов\n",
        "criterion = nn.CrossEntropyLoss()\n",
        "\n",
        "# SGD (классический) со скоростью обучения (learning rate) = 0.01\n",
        "optimizer = torch.optim.SGD(params=model.parameters(),\n",
        "                           lr=0.01)"
      ],
      "metadata": {
        "id": "7atYx0-FW5-K"
      },
      "execution_count": null,
      "outputs": []
    },
    {
      "cell_type": "code",
      "source": [
        "# функция обучения модели\n",
        "def train(model, device, train_loader, optimizer, criterion, epoch, WANDB):\n",
        "    model.train()  # обязательно переводим в режим обучения\n",
        "    test_loss = 0\n",
        "    correct = 0\n",
        "    \n",
        "    n_ex = len(train_loader)\n",
        "    \n",
        "    for batch_idx, (data, target) in tqdm(enumerate(train_loader), total=n_ex):\n",
        "        data, target = data.to(device), target.to(device) # переводим картинки и таргеты на GPU\n",
        "        # обнуляем градиенты!\n",
        "        optimizer.zero_grad()\n",
        "        # прямой проход\n",
        "        output = model(data)\n",
        "        pred = output.argmax(dim=1, keepdim=True)\n",
        "        correct += pred.eq(target.view_as(pred)).sum().item() # определяем корректность предсказания\n",
        "        train_loss = criterion(output, target) # считаем значение функции потерь\n",
        "        # обратный проход\n",
        "        train_loss.backward()\n",
        "        # делаем градиентный шаг оптимизатором\n",
        "        optimizer.step()\n",
        "        # считаем метрики и лосс\n",
        "    tqdm.write('\\nTrain set: Average loss: {:.4f}, Accuracy: {:.0f}%'.format(\n",
        "        train_loss, 100. * correct / len(train_loader.dataset)))\n",
        "    \n",
        "    if WANDB:\n",
        "        wandb.log({'train_loss': train_loss,\n",
        "                   'train_accuracy': correct / len(train_loader.dataset)})"
      ],
      "metadata": {
        "id": "5ow_sFgBW8bm"
      },
      "execution_count": null,
      "outputs": []
    },
    {
      "cell_type": "code",
      "source": [
        "# функция тестирования\n",
        "def test(model, device, test_loader, criterion, WANDB):\n",
        "    model.eval() # переводем модель в режим инференса\n",
        "    test_loss = 0\n",
        "    correct = 0\n",
        "    # показываем, что обученич нет и градиенты не обновляются\n",
        "    with torch.no_grad():\n",
        "        for data, target in test_loader:\n",
        "            data, target = data.to(device), target.to(device)\n",
        "            output = model(data)\n",
        "            test_loss = criterion(output, target) # считаем значение функции потерь\n",
        "            pred = output.argmax(dim=1, keepdim=True)\n",
        "            correct += pred.eq(target.view_as(pred)).sum().item()\n",
        "            # считаем метрики\n",
        "    tqdm.write('Test set: Average loss: {:.4f}, Accuracy: {:.0f}%'.format(\n",
        "        test_loss, 100. * correct / len(test_loader.dataset)))\n",
        "    \n",
        "    if WANDB:\n",
        "        wandb.log({'test_loss': test_loss,\n",
        "                   'test_accuracy': correct / len(test_loader.dataset)})"
      ],
      "metadata": {
        "id": "sxMjlNRZXAW8"
      },
      "execution_count": null,
      "outputs": []
    },
    {
      "cell_type": "code",
      "source": [
        "# основная функция для экспериментов\n",
        "def main(model):\n",
        "    # настраиваем окружение для wandb\n",
        "    if CFG.wandb:\n",
        "        os.environ[\"WANDB_API_KEY\"] = CFG.api\n",
        "        wandb.init(project=CFG.project, entity=CFG.entity, reinit=True, config=class2dict(CFG))\n",
        "  \n",
        "    use_cuda = torch.cuda.is_available() # проверяем доступность GPU \n",
        "\n",
        "    seed_everything(CFG.seed) # фиксируем сиды\n",
        "\n",
        "    device = torch.device('cuda:0' if torch.cuda.is_available() else 'cpu') # выделили устройство \n",
        "    \n",
        "    if CFG.wandb:\n",
        "        wandb.watch(model, log='all') # логируем все (метрики, лоссы, градиенты)\n",
        "\n",
        "    for epoch in range(1, CFG.num_epochs + 1): # цикл на эпохи\n",
        "        print('\\nEpoch:', epoch)\n",
        "        train(model, device, train_loader, optimizer, criterion, epoch, CFG.wandb)\n",
        "        test(model, device, test_loader, criterion, CFG.wandb)\n",
        "    print('Training is end!')"
      ],
      "metadata": {
        "id": "wOHQ0Wt9XFEh"
      },
      "execution_count": null,
      "outputs": []
    },
    {
      "cell_type": "code",
      "source": [
        "gpu_info = !nvidia-smi\n",
        "gpu_info = '\\n'.join(gpu_info)\n",
        "print(gpu_info)"
      ],
      "metadata": {
        "colab": {
          "base_uri": "https://localhost:8080/"
        },
        "id": "ddOOVyDhXJlH",
        "outputId": "31bd0ae3-dd14-42ff-d2aa-7e51799be5db"
      },
      "execution_count": null,
      "outputs": [
        {
          "output_type": "stream",
          "name": "stdout",
          "text": [
            "Wed Mar  1 17:52:03 2023       \n",
            "+-----------------------------------------------------------------------------+\n",
            "| NVIDIA-SMI 525.85.12    Driver Version: 525.85.12    CUDA Version: 12.0     |\n",
            "|-------------------------------+----------------------+----------------------+\n",
            "| GPU  Name        Persistence-M| Bus-Id        Disp.A | Volatile Uncorr. ECC |\n",
            "| Fan  Temp  Perf  Pwr:Usage/Cap|         Memory-Usage | GPU-Util  Compute M. |\n",
            "|                               |                      |               MIG M. |\n",
            "|===============================+======================+======================|\n",
            "|   0  Tesla T4            Off  | 00000000:00:04.0 Off |                    0 |\n",
            "| N/A   63C    P0    27W /  70W |   1167MiB / 15360MiB |      0%      Default |\n",
            "|                               |                      |                  N/A |\n",
            "+-------------------------------+----------------------+----------------------+\n",
            "                                                                               \n",
            "+-----------------------------------------------------------------------------+\n",
            "| Processes:                                                                  |\n",
            "|  GPU   GI   CI        PID   Type   Process name                  GPU Memory |\n",
            "|        ID   ID                                                   Usage      |\n",
            "|=============================================================================|\n",
            "+-----------------------------------------------------------------------------+\n"
          ]
        }
      ]
    },
    {
      "cell_type": "markdown",
      "source": [
        "Запускаем обучение. Цель - получить на тесте значение accuracy не менее 98%."
      ],
      "metadata": {
        "id": "BWz5hylffowH"
      }
    },
    {
      "cell_type": "code",
      "source": [
        "main(model)"
      ],
      "metadata": {
        "colab": {
          "base_uri": "https://localhost:8080/"
        },
        "id": "GUnN4kneXL1E",
        "outputId": "6d5f6028-6539-4ca3-a8b1-d967a9ce6cc3"
      },
      "execution_count": null,
      "outputs": [
        {
          "output_type": "stream",
          "name": "stdout",
          "text": [
            "\n",
            "Epoch: 1\n"
          ]
        },
        {
          "output_type": "stream",
          "name": "stderr",
          "text": [
            "100%|██████████| 938/938 [00:19<00:00, 47.44it/s]"
          ]
        },
        {
          "output_type": "stream",
          "name": "stdout",
          "text": [
            "\n",
            "Train set: Average loss: 0.6468, Accuracy: 76%\n"
          ]
        },
        {
          "output_type": "stream",
          "name": "stderr",
          "text": [
            "\n"
          ]
        },
        {
          "output_type": "stream",
          "name": "stdout",
          "text": [
            "Test set: Average loss: 0.3961, Accuracy: 83%\n",
            "\n",
            "Epoch: 2\n"
          ]
        },
        {
          "output_type": "stream",
          "name": "stderr",
          "text": [
            "100%|██████████| 938/938 [00:18<00:00, 51.23it/s]"
          ]
        },
        {
          "output_type": "stream",
          "name": "stdout",
          "text": [
            "\n",
            "Train set: Average loss: 0.3200, Accuracy: 85%\n"
          ]
        },
        {
          "output_type": "stream",
          "name": "stderr",
          "text": [
            "\n"
          ]
        },
        {
          "output_type": "stream",
          "name": "stdout",
          "text": [
            "Test set: Average loss: 0.3348, Accuracy: 86%\n",
            "\n",
            "Epoch: 3\n"
          ]
        },
        {
          "output_type": "stream",
          "name": "stderr",
          "text": [
            "100%|██████████| 938/938 [00:18<00:00, 49.68it/s]"
          ]
        },
        {
          "output_type": "stream",
          "name": "stdout",
          "text": [
            "\n",
            "Train set: Average loss: 0.3027, Accuracy: 87%\n"
          ]
        },
        {
          "output_type": "stream",
          "name": "stderr",
          "text": [
            "\n"
          ]
        },
        {
          "output_type": "stream",
          "name": "stdout",
          "text": [
            "Test set: Average loss: 0.2807, Accuracy: 87%\n",
            "\n",
            "Epoch: 4\n"
          ]
        },
        {
          "output_type": "stream",
          "name": "stderr",
          "text": [
            "100%|██████████| 938/938 [00:18<00:00, 49.65it/s]"
          ]
        },
        {
          "output_type": "stream",
          "name": "stdout",
          "text": [
            "\n",
            "Train set: Average loss: 0.5506, Accuracy: 88%\n"
          ]
        },
        {
          "output_type": "stream",
          "name": "stderr",
          "text": [
            "\n"
          ]
        },
        {
          "output_type": "stream",
          "name": "stdout",
          "text": [
            "Test set: Average loss: 0.2704, Accuracy: 87%\n",
            "\n",
            "Epoch: 5\n"
          ]
        },
        {
          "output_type": "stream",
          "name": "stderr",
          "text": [
            "100%|██████████| 938/938 [00:18<00:00, 51.42it/s]"
          ]
        },
        {
          "output_type": "stream",
          "name": "stdout",
          "text": [
            "\n",
            "Train set: Average loss: 0.5174, Accuracy: 88%\n"
          ]
        },
        {
          "output_type": "stream",
          "name": "stderr",
          "text": [
            "\n"
          ]
        },
        {
          "output_type": "stream",
          "name": "stdout",
          "text": [
            "Test set: Average loss: 0.2534, Accuracy: 88%\n",
            "\n",
            "Epoch: 6\n"
          ]
        },
        {
          "output_type": "stream",
          "name": "stderr",
          "text": [
            "100%|██████████| 938/938 [00:19<00:00, 48.93it/s]"
          ]
        },
        {
          "output_type": "stream",
          "name": "stdout",
          "text": [
            "\n",
            "Train set: Average loss: 0.2502, Accuracy: 89%\n"
          ]
        },
        {
          "output_type": "stream",
          "name": "stderr",
          "text": [
            "\n"
          ]
        },
        {
          "output_type": "stream",
          "name": "stdout",
          "text": [
            "Test set: Average loss: 0.2329, Accuracy: 89%\n",
            "\n",
            "Epoch: 7\n"
          ]
        },
        {
          "output_type": "stream",
          "name": "stderr",
          "text": [
            "100%|██████████| 938/938 [00:18<00:00, 51.59it/s]"
          ]
        },
        {
          "output_type": "stream",
          "name": "stdout",
          "text": [
            "\n",
            "Train set: Average loss: 0.2788, Accuracy: 90%\n"
          ]
        },
        {
          "output_type": "stream",
          "name": "stderr",
          "text": [
            "\n"
          ]
        },
        {
          "output_type": "stream",
          "name": "stdout",
          "text": [
            "Test set: Average loss: 0.2404, Accuracy: 88%\n",
            "\n",
            "Epoch: 8\n"
          ]
        },
        {
          "output_type": "stream",
          "name": "stderr",
          "text": [
            "100%|██████████| 938/938 [00:18<00:00, 51.59it/s]"
          ]
        },
        {
          "output_type": "stream",
          "name": "stdout",
          "text": [
            "\n",
            "Train set: Average loss: 0.2968, Accuracy: 90%\n"
          ]
        },
        {
          "output_type": "stream",
          "name": "stderr",
          "text": [
            "\n"
          ]
        },
        {
          "output_type": "stream",
          "name": "stdout",
          "text": [
            "Test set: Average loss: 0.2479, Accuracy: 89%\n",
            "\n",
            "Epoch: 9\n"
          ]
        },
        {
          "output_type": "stream",
          "name": "stderr",
          "text": [
            "100%|██████████| 938/938 [00:20<00:00, 45.22it/s]"
          ]
        },
        {
          "output_type": "stream",
          "name": "stdout",
          "text": [
            "\n",
            "Train set: Average loss: 0.2430, Accuracy: 90%\n"
          ]
        },
        {
          "output_type": "stream",
          "name": "stderr",
          "text": [
            "\n"
          ]
        },
        {
          "output_type": "stream",
          "name": "stdout",
          "text": [
            "Test set: Average loss: 0.2395, Accuracy: 89%\n",
            "\n",
            "Epoch: 10\n"
          ]
        },
        {
          "output_type": "stream",
          "name": "stderr",
          "text": [
            "100%|██████████| 938/938 [00:18<00:00, 51.54it/s]"
          ]
        },
        {
          "output_type": "stream",
          "name": "stdout",
          "text": [
            "\n",
            "Train set: Average loss: 0.4020, Accuracy: 90%\n"
          ]
        },
        {
          "output_type": "stream",
          "name": "stderr",
          "text": [
            "\n"
          ]
        },
        {
          "output_type": "stream",
          "name": "stdout",
          "text": [
            "Test set: Average loss: 0.2346, Accuracy: 89%\n",
            "Training is end!\n"
          ]
        }
      ]
    },
    {
      "cell_type": "markdown",
      "source": [
        "Пробуем другие оптимизаторы."
      ],
      "metadata": {
        "id": "D1Erk-nsfWxd"
      }
    },
    {
      "cell_type": "markdown",
      "source": [
        "Может стоить добавить еще пару слоев? Как уже говорилось ранее, deep learning - это пространство для экспериментов и творчества. Дерзайте!"
      ],
      "metadata": {
        "id": "gQtYBN6QfaD0"
      }
    }
  ]
}